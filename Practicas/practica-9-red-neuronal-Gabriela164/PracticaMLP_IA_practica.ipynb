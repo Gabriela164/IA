{
  "cells": [
    {
      "cell_type": "markdown",
      "metadata": {
        "id": "u9nSEAWI4nof"
      },
      "source": [
        "# Perceptrón multicapa\n",
        "\n",
        "**Autor:** _Benjamin Torres_\n",
        "\n",
        "Marzo 2019\n",
        "\n",
        "En esta práctica implementarás distintos modelos de perceptrón multicapa para clasificar datos haciendo uso de la biblioteca Pytorch.\n",
        "\n",
        "Puedes encontrar la documentación de esta biblioteca en :\n",
        "[pytorch.org](https://pytorch.org/docs/stable/index.html)\n",
        "\n",
        "Escencialmente, PyTorch se encarga de realizar operaciones sobre **tensores**, los cuales pueden crearse haciendo uso de torch.Tensor y pasando como argumento una lista de Python, por ejemplo:\n",
        "\n",
        "```\n",
        "import torch\n",
        "a = torch.Tensor([[1,0,0],[0,1,0],[0,0,1]])\n",
        "```\n",
        "Crea una matriz identidad de 3x3.\n",
        "\n",
        "Podemos ejecutar operaciones con estos tensores de manera similar a como trabajamos con arreglos de Numpy, por ejemplo:\n",
        "\n",
        "*   Suma, con el método add() o haciendo uso del operador +\n",
        "*   Producto cruz, con el método dot() o con el operador @\n",
        "*   Producto entrada por entrada con el operador *\n",
        "*   Valor máximo, con argmax()\n",
        "*   Cambio de forma con view( (new shape) )\n",
        "\n",
        "Entre las ventajas más importantes de hacer uso de esta biblioteca está la capacidad que tiene para realizar **diferenciación automática**, que permite obtener gradientes de expresiones fácilmente, lo cual es especialmente importante en redes neuronales."
      ]
    },
    {
      "cell_type": "code",
      "execution_count": 5,
      "metadata": {
        "id": "CyBRuGzjTvxe"
      },
      "outputs": [],
      "source": [
        "import math\n",
        "import random\n",
        "\n",
        "import torch\n",
        "import torch.nn as nn\n",
        "import torch.optim as optim\n",
        "\n",
        "import matplotlib.pyplot as plt\n",
        "#!pip install --force https://github.com/chengs/tqdm/archive/colab.zip\n",
        "from tqdm import tnrange\n"
      ]
    },
    {
      "cell_type": "markdown",
      "metadata": {
        "id": "d_-xhrpqpQ5_"
      },
      "source": [
        "Para la implementación de redes neuronales podemos hacer uso de la clase nn.Module.  Ésta se debe extender y se implementa el constructor, así como la manera de hacer *feed forward* con valores de entrada.  Las capas de la red se definen utilizando objetos nn.Linear.\n",
        "\n",
        "## Ejemplo: Perceptrón simple\n",
        "\n",
        "En la siguiente celda puedes encontrar un ejemplo de la implementación de un perceptrón que simula la compuerta AND."
      ]
    },
    {
      "cell_type": "code",
      "execution_count": 6,
      "metadata": {
        "id": "rT8xE8XlpP0u"
      },
      "outputs": [],
      "source": [
        "class Perceptron(nn.Module):\n",
        "    def __init__(self, input_size, output_size, bias=True):\n",
        "      ''' Puedes definir tantos parámetros de entrada como necesites, en este caso únicamente\n",
        "      el número de elementos de entrada y de salida, observa que debes agregar a self los\n",
        "      objetos nn.Linear que desees usar, en este caso sólo es uno.\n",
        "      '''\n",
        "      super(Perceptron, self).__init__()\n",
        "      self.fc1 = nn.Linear(in_features = input_size, out_features = output_size, bias=bias)\n",
        "\n",
        "    def forward(self, inputX):\n",
        "      '''Debes sobreescibir el método forward, el cual recibe únicamente una entrada:\n",
        "      los valores sobre los que se evaluará la red.\n",
        "      Para hacer pasar la entrada a través de una capa, sólo debes llamarla con la entrada\n",
        "      como parámetro.\n",
        "      Finalmente puedes notar que se puede aplicar una función de activación a\n",
        "      todos los valores resultantes.\n",
        "      Este método debe resultar en, al menos una salida.\n",
        "      '''\n",
        "      out = torch.sigmoid(self.fc1(inputX))\n",
        "      return out"
      ]
    },
    {
      "cell_type": "markdown",
      "metadata": {
        "id": "FLtNcAWIwFfJ"
      },
      "source": [
        "Con la clase implementada ahora sólo es necesario definir la manera en la que se realiza el entrenamiento.\n",
        "\n",
        "Puedes implementar un método train que reciba los parámetros necesarios, entre los cuales se encuentra:\n",
        "\n",
        "*   El modelo que se desea entrenar (debe heredar de nn.Module).\n",
        "*   El número de epocas de entrenamiento.\n",
        "*   Los datos de entrenamiento (entradas) y sus etiquetas.\n",
        "*   El criterio de oprimización, es decir, la función de costo, las cuales puedes consultar en [Pytorch loss functions.](https://pytorch.org/docs/stable/nn.html#loss-functions)\n",
        "*   El método de optimizacion, por ejemplo SGD, distintos algoritmos se encuentran implementados en el modulo [torch.optim](https://pytorch.org/docs/stable/optim.html)"
      ]
    },
    {
      "cell_type": "code",
      "execution_count": 9,
      "metadata": {
        "id": "LYaDo0v0wEr2"
      },
      "outputs": [],
      "source": [
        "def train(net, epochs, data, labels, criterion, optimizer, cuda=False):\n",
        "    '''Entrena la red net, por un numero de epocas \"epochs\",\n",
        "    usando como función de pérdida la definida en \"criterion\" y el\n",
        "    optimizador pasado como parámetro.'''\n",
        "\n",
        "    avg_loss = torch.Tensor()\n",
        "    tqdm_epochs = tnrange(epochs)\n",
        "    for epoch in tqdm_epochs:\n",
        "        for d,label in zip(data,labels):\n",
        "            if(cuda and torch.cuda.is_available()): #Si nuestra PC cuenta con GPU,realizamos cálculos en ella\n",
        "                d = d.cuda()\n",
        "                label = label.cuda()\n",
        "\n",
        "            optimizer.zero_grad() #limpiamos los gradientes actuales\n",
        "            output = net(d)       #llamar a nuestro objeto red con parámetros es introducirlos a la red\n",
        "            #print(\"o\", output)\n",
        "            #print(\"l\", label)\n",
        "            loss   = criterion(output, label) #calculamos el error de nuestro modelo\n",
        "            loss.backward()       #calculamos el gradiente del error y se almacena dentro del modelo\n",
        "            optimizer.step()      #usando los datos almacenados y el método seleccionado actualizamos los parámetros de la red\n",
        "\n",
        "            avg_loss = torch.cat([avg_loss, torch.Tensor([loss])],0)\n",
        "\n",
        "    tqdm_epochs.set_description(\"Loss %.6f\"%(avg_loss.sum()/avg_loss.numel()).item())"
      ]
    },
    {
      "cell_type": "markdown",
      "metadata": {
        "id": "xelgxu5V2rE4"
      },
      "source": [
        "Para nuestro ejemplo podemos tratar el problema de aprender la compuerta AND como un problema de regresión, para lo cual puedes usar la función de error min squared error (MSE), que se encuentra implementada como MSELoss().\n",
        "\n",
        "Además podemos utilizar descenso por el gradiente, que puedes encontrar en torch.optim.SGD. A este objeto necesitas\n",
        "pasarle como argumento los parámetros (pesos) del modelo a optimizar, lo cual puedes lograr con el método parameters() de los objetos que heredan de nn.Module; en el caso del descenso por el gradiente tambien debes especificar la taza de aprendizaje.\n",
        "\n",
        "Puedes ejecutar el entrenamiento sobre el modelo de 2 entradas y una única salida pasándolo como argumento al método train."
      ]
    },
    {
      "cell_type": "code",
      "execution_count": 10,
      "metadata": {
        "colab": {
          "base_uri": "https://localhost:8080/",
          "height": 138,
          "referenced_widgets": [
            "1cbd518be53e4a0eb649287128109156",
            "4a472b34e2de47bcbc9d4aa8e7a16a39",
            "9e0cc85018bc4d1caf22308197716de2",
            "ee9f51041f354022addd767cdc0642d1",
            "2647f26076a94746bda2d4644071285c",
            "905a93717f8c4db889d8d2725605faf3",
            "6bb579d79ab0472b9427c5368f80b22e",
            "3a0befece7154cebbf87d3c1f76d08f0",
            "0bfd409c2ae3455f9697cbca4d1bf32c",
            "a59b471926fb4694b8bc7e1c91ad6196",
            "16e5d50b6c7c4e9ab83941e7bb314805"
          ]
        },
        "id": "WFkhWi2Lwp-A",
        "outputId": "598d6aa9-1c66-4ea5-a0eb-eb9f9d91d8db"
      },
      "outputs": [
        {
          "output_type": "stream",
          "name": "stderr",
          "text": [
            "<ipython-input-9-579b7526ee89>:7: TqdmDeprecationWarning: Please use `tqdm.notebook.trange` instead of `tqdm.tnrange`\n",
            "  tqdm_epochs = tnrange(epochs)\n"
          ]
        },
        {
          "output_type": "display_data",
          "data": {
            "text/plain": [
              "  0%|          | 0/10000 [00:00<?, ?it/s]"
            ],
            "application/vnd.jupyter.widget-view+json": {
              "version_major": 2,
              "version_minor": 0,
              "model_id": "1cbd518be53e4a0eb649287128109156"
            }
          },
          "metadata": {}
        },
        {
          "output_type": "stream",
          "name": "stderr",
          "text": [
            "/usr/local/lib/python3.10/dist-packages/torch/nn/modules/loss.py:535: UserWarning: Using a target size (torch.Size([])) that is different to the input size (torch.Size([1])). This will likely lead to incorrect results due to broadcasting. Please ensure they have the same size.\n",
            "  return F.mse_loss(input, target, reduction=self.reduction)\n"
          ]
        }
      ],
      "source": [
        "# Entradas\n",
        "X_AND = torch.Tensor([[0,0],\n",
        "                 [0,1],\n",
        "                 [1,0],\n",
        "                 [1,1]])\n",
        "# Etiquetas\n",
        "Y_AND = torch.Tensor([0,0,0,1])\n",
        "\n",
        "Perceptron_AND = Perceptron(2,1)\n",
        "criterio  = nn.MSELoss()\n",
        "optimizer = torch.optim.SGD(Perceptron_AND.parameters(), lr=0.1)\n",
        "\n",
        "train(Perceptron_AND, 10000, X_AND, Y_AND, criterio, optimizer)\n",
        "#train(Perceptron_AND, 2, X_AND, Y_AND, criterio, optimizer)\n"
      ]
    },
    {
      "cell_type": "markdown",
      "metadata": {
        "id": "GJBFGm6A3-Aq"
      },
      "source": [
        "Ahora para realizar predicciones con el modelo obtenido unicamente debes pasar los datos como parámetro a la red, la cual ejecutará de manera automática el método forward.\n",
        "Dado que el problema fue modelado como regresión observarás que los primeros 3 valores son muy cercanos a 0 y el último tiene un valor muy cercano a 1."
      ]
    },
    {
      "cell_type": "code",
      "execution_count": 11,
      "metadata": {
        "colab": {
          "base_uri": "https://localhost:8080/"
        },
        "id": "gT1IaZZ84HUw",
        "outputId": "79e29ade-40b4-4787-feb6-9a6f72203bc2"
      },
      "outputs": [
        {
          "output_type": "stream",
          "name": "stdout",
          "text": [
            "tensor([[7.4663e-05],\n",
            "        [3.8159e-02],\n",
            "        [3.8171e-02],\n",
            "        [9.5472e-01]], grad_fn=<SigmoidBackward0>)\n"
          ]
        }
      ],
      "source": [
        "resultados = Perceptron_AND(X_AND)\n",
        "print(resultados)"
      ]
    },
    {
      "cell_type": "markdown",
      "metadata": {
        "id": "8Yv_M-M6-Oez"
      },
      "source": [
        "## Dos perceptrones en una capa\n",
        "\n",
        "Si quisiéramos resolverlo como un problema de clasificación debemos realizar dos cambios:\n",
        "\n",
        "*   Cambiar el formato de las etiquetas para que se encuentren en [one-hot](https://en.wikipedia.org/wiki/One-hot).  El primer perceptrón representará al 0 y el segundo, al 1.\n",
        "*   Usar una función de costo que evalúe el error de clasificación, como la entropía cruzada binaria, implementada en PyTorch como BCELoss()."
      ]
    },
    {
      "cell_type": "code",
      "execution_count": 12,
      "metadata": {
        "colab": {
          "base_uri": "https://localhost:8080/",
          "height": 84,
          "referenced_widgets": [
            "a3560615d83042558380810e747089c4",
            "73973f967617421da656c047fbcea992",
            "9b0ee581f15e4e00a4ef0a5f4eccdff2",
            "9f430f7734ba4972baad4795dd494de4",
            "924ed5e20456473592041f26e0b55270",
            "be966fea444e455893cd5eed6d574cc4",
            "2c92f17d92bd4e3da59be97bd2a97ee3",
            "b18fb70b83a14d7e9ab0f544d3d8a12f",
            "aba061135f044fe4873b87cb681197da",
            "aa8f87af5ae34695a5ba3ba7b5021e22",
            "bacc9ecfb7d74862b4e2890785db181d"
          ]
        },
        "id": "aX4fCyJr5OSl",
        "outputId": "aa5530d5-c831-48b3-e2e6-0ee0bdb8dda0"
      },
      "outputs": [
        {
          "output_type": "stream",
          "name": "stderr",
          "text": [
            "<ipython-input-9-579b7526ee89>:7: TqdmDeprecationWarning: Please use `tqdm.notebook.trange` instead of `tqdm.tnrange`\n",
            "  tqdm_epochs = tnrange(epochs)\n"
          ]
        },
        {
          "output_type": "display_data",
          "data": {
            "text/plain": [
              "  0%|          | 0/50000 [00:00<?, ?it/s]"
            ],
            "application/vnd.jupyter.widget-view+json": {
              "version_major": 2,
              "version_minor": 0,
              "model_id": "a3560615d83042558380810e747089c4"
            }
          },
          "metadata": {}
        }
      ],
      "source": [
        "Y_one_hot = torch.Tensor([[1,0],[1,0],[1,0],[0,1]])\n",
        "Perceptron_AND_C = Perceptron(2,2)\n",
        "criterio_clasificacion =  nn.BCELoss()\n",
        "optimizer = torch.optim.SGD(Perceptron_AND_C.parameters(), lr=0.1)\n",
        "train(Perceptron_AND_C, 50000, X_AND, Y_one_hot, criterio_clasificacion, optimizer)"
      ]
    },
    {
      "cell_type": "markdown",
      "metadata": {
        "id": "fRm-caJH_MDP"
      },
      "source": [
        "Nota que el resultado será alimentado a la funcion Softmax para que puedas interpretar los resultados como probabilidades.  La salida con el valor más alto es la clase ganadora."
      ]
    },
    {
      "cell_type": "code",
      "execution_count": 13,
      "metadata": {
        "colab": {
          "base_uri": "https://localhost:8080/"
        },
        "id": "uVLuPXEg68OB",
        "outputId": "6289b14b-a0d3-408f-d78e-1a95cce5be33"
      },
      "outputs": [
        {
          "output_type": "stream",
          "name": "stdout",
          "text": [
            "tensor([[0.2972, 0.1750],\n",
            "        [0.2966, 0.1753],\n",
            "        [0.2966, 0.1753],\n",
            "        [0.1096, 0.4743]], grad_fn=<SoftmaxBackward0>)\n"
          ]
        }
      ],
      "source": [
        "resultados_clasificacion = Perceptron_AND_C(X_AND)\n",
        "print(nn.functional.softmax(resultados_clasificacion,dim=0))"
      ]
    },
    {
      "cell_type": "markdown",
      "metadata": {
        "id": "vQmEcw0YpG9h"
      },
      "source": [
        "## Perceptrón multicapa\n",
        "\n",
        "### Ejercicio 1: XOR\n",
        "\n",
        "Haciendo uso de un perceptrón multicapa (MLP, por sus siglas en inglés) crea un modelo capaz de simular la compuerta logica XOR considerandolo un problema de regresión.\n",
        "\n",
        "Para esta tarea debes usar tres capas:\n",
        "* La capa de entrada (los valores de entrada a la compuerta)\n",
        "* Una capa oculta con 3 unidades\n",
        "* Una capa de salida con una unica neurona\n",
        "\n",
        "Deberas especificar una **taza de aprendizaje** adecuada así como el número de iteraciones necesario para lograr el aprendizaje."
      ]
    },
    {
      "cell_type": "code",
      "execution_count": 14,
      "metadata": {
        "id": "RRC5XVB6UyJu"
      },
      "outputs": [],
      "source": [
        "X_XOR = torch.Tensor([[0,0],\n",
        "                      [0,1],\n",
        "                      [1,0],\n",
        "                      [1,1]])\n",
        "Y_XOR = torch.Tensor([0,1,1,0])"
      ]
    },
    {
      "cell_type": "code",
      "execution_count": 15,
      "metadata": {
        "id": "ulVM8HcoVip5"
      },
      "outputs": [],
      "source": [
        "class XOR(nn.Module):\n",
        "    def __init__(self):\n",
        "        super(XOR, self).__init__()\n",
        "        self.hidden_layer = nn.Linear(2, 3)  # Capa oculta con 2 entradas y 3 salidas\n",
        "        self.output_layer = nn.Linear(3, 1)  # Capa de salida con 3 entradas y 1 salida\n",
        "\n",
        "    def forward(self, inputX):\n",
        "        hidden_output = torch.sigmoid(self.hidden_layer(inputX))  # Aplicar la función sigmoide en la capa oculta\n",
        "        output = torch.sigmoid(self.output_layer(hidden_output))  # Aplicar la función sigmoide en la capa de salida\n",
        "        return output"
      ]
    },
    {
      "cell_type": "code",
      "source": [
        "XORNet = XOR()\n",
        "criterio = nn.MSELoss()  # Error cuadrático medio\n",
        "optimizer = torch.optim.SGD(XORNet.parameters(), lr=0.1)  # Descenso de gradiente estocástico con tasa de aprendizaje 0.1\n",
        "\n",
        "train(XORNet, 5000, X_XOR, Y_XOR, criterio, optimizer)"
      ],
      "metadata": {
        "colab": {
          "base_uri": "https://localhost:8080/",
          "height": 84,
          "referenced_widgets": [
            "e09420cc4cd24eaa99ad6e93c681a66f",
            "7bb371b8d0594f558db103a168af09b4",
            "7c4d84e95704415d860fa3f5e500da87",
            "4901b9a17dfb4afe889ce0e2562b1c48",
            "eadcac66948f4d6689265d029c949955",
            "a42fed29cfdd453da72d1dde6ecd5cc7",
            "cfa39d6044b74036bc5b081fa789d414",
            "21e429f91bda4ba59a8c1026f8126685",
            "733c99c1af694bdeac94bcbf9f24ae14",
            "179726f803804b65beba610e820b634e",
            "2e7da7a90aa04e1ab97a08e8be653d9f"
          ]
        },
        "id": "Sv5GE1Wtk08N",
        "outputId": "27a06bfa-9586-4c56-9667-8874346b4edb"
      },
      "execution_count": 16,
      "outputs": [
        {
          "output_type": "stream",
          "name": "stderr",
          "text": [
            "<ipython-input-9-579b7526ee89>:7: TqdmDeprecationWarning: Please use `tqdm.notebook.trange` instead of `tqdm.tnrange`\n",
            "  tqdm_epochs = tnrange(epochs)\n"
          ]
        },
        {
          "output_type": "display_data",
          "data": {
            "text/plain": [
              "  0%|          | 0/5000 [00:00<?, ?it/s]"
            ],
            "application/vnd.jupyter.widget-view+json": {
              "version_major": 2,
              "version_minor": 0,
              "model_id": "e09420cc4cd24eaa99ad6e93c681a66f"
            }
          },
          "metadata": {}
        }
      ]
    },
    {
      "cell_type": "code",
      "execution_count": 17,
      "metadata": {
        "colab": {
          "base_uri": "https://localhost:8080/"
        },
        "id": "kIM-zX_5ycaG",
        "outputId": "fddb72b9-65d6-4cab-e480-05d8f0ef2824"
      },
      "outputs": [
        {
          "output_type": "stream",
          "name": "stdout",
          "text": [
            "tensor([[0.1467],\n",
            "        [0.8298],\n",
            "        [0.7922],\n",
            "        [0.2129]], grad_fn=<SigmoidBackward0>)\n"
          ]
        }
      ],
      "source": [
        "predicciones = XORNet(X_XOR)\n",
        "print(predicciones)\n"
      ]
    },
    {
      "cell_type": "markdown",
      "metadata": {
        "id": "59mYQEaUyPLo"
      },
      "source": [
        "### Ejercicio 2:\n",
        "\n",
        "Encuentra un modelo para clasificar los datos contenidos en Xs y Ys, para lo cual debes encontrar el numero de capas y neuronas adecuado, así como una taza de aprendizaje.\n",
        "\n",
        "HINT: Puedes utilizar [Playground.tensorflow](https://playground.tensorflow.org) para buscar gráficamente los modelos y al final implementarlos."
      ]
    },
    {
      "cell_type": "code",
      "execution_count": 18,
      "metadata": {
        "id": "kGBvQYnn0KoZ"
      },
      "outputs": [],
      "source": [
        "def to_learn1(x,y):\n",
        "    return 1 if x * y >= 0 else -1;\n",
        "\n",
        "def asignar_color(clase):\n",
        "    if(clase==1):\n",
        "        return 'r'\n",
        "    elif(clase==-1):\n",
        "        return 'b'"
      ]
    },
    {
      "cell_type": "code",
      "execution_count": 19,
      "metadata": {
        "id": "5pZNT-cOvEUW"
      },
      "outputs": [],
      "source": [
        "Xs = [random.uniform(-5,5) for _ in range(0,50) ]\n",
        "Ys = [random.uniform(-5,5) for _ in range(0,50) ]\n",
        "Zs = [to_learn1(punto[0],punto[1]) for punto in zip(Xs,Ys)]\n",
        "Colores = [asignar_color(p) for p in Zs]\n",
        "#print(Xs)\n",
        "#print(Ys)\n",
        "#print(Zs)\n",
        "#print(Colores)"
      ]
    },
    {
      "cell_type": "code",
      "execution_count": 20,
      "metadata": {
        "colab": {
          "base_uri": "https://localhost:8080/",
          "height": 447
        },
        "id": "DSpedQNjwEtj",
        "outputId": "0cf06121-0059-46c8-de9b-e05ae0d844a7"
      },
      "outputs": [
        {
          "output_type": "execute_result",
          "data": {
            "text/plain": [
              "[]"
            ]
          },
          "metadata": {},
          "execution_count": 20
        },
        {
          "output_type": "display_data",
          "data": {
            "text/plain": [
              "<Figure size 640x480 with 1 Axes>"
            ],
            "image/png": "[encoded data removed]"
          },
          "metadata": {}
        }
      ],
      "source": [
        "plt.scatter(Xs,Ys,c=Colores)\n",
        "plt.plot()"
      ]
    },
    {
      "cell_type": "code",
      "execution_count": 21,
      "metadata": {
        "id": "kAoWZCypCo68"
      },
      "outputs": [],
      "source": [
        "#CREA EN ESTA CELDA EL MODELO PARA CLASIFICAR LOS DATOS PROPORCINADOS\n",
        "class ModeloClasificacion2(nn.Module):\n",
        "    def __init__(self):\n",
        "        super(ModeloClasificacion2, self).__init__()\n",
        "        self.fc1 = nn.Linear(2, 8)  # Capa oculta con 2 entradas y 8 salidas\n",
        "        self.fc2 = nn.Linear(8, 4)  # Otra capa oculta con 8 entradas y 4 salidas\n",
        "        self.fc3 = nn.Linear(4, 1)  # Capa de salida con 4 entradas y 1 salida\n",
        "\n",
        "    def forward(self, inputX):\n",
        "        hidden1_output = torch.relu(self.fc1(inputX))  # Aplicar ReLU en la primera capa oculta\n",
        "        hidden2_output = torch.relu(self.fc2(hidden1_output))  # Aplicar ReLU en la segunda capa oculta\n",
        "        output = torch.sigmoid(self.fc3(hidden2_output))  # Aplicar sigmoide en la capa de salida\n",
        "        return output"
      ]
    },
    {
      "cell_type": "code",
      "source": [
        "# Define el modelo, criterio y optimizador\n",
        "modelo = ModeloClasificacion2()\n",
        "criterio = nn.BCELoss()  # Para clasificación binaria\n",
        "optimizer = torch.optim.SGD(modelo.parameters(), lr=0.1)\n",
        "\n",
        "# Reformatea Y_XOR\n",
        "Y_XOR = Y_XOR.view(-1, 1)\n",
        "\n",
        "# Entrena el modelo\n",
        "train(modelo, 5000 , X_XOR, Y_XOR, criterio, optimizer)"
      ],
      "metadata": {
        "colab": {
          "base_uri": "https://localhost:8080/",
          "height": 84,
          "referenced_widgets": [
            "f003a4cea95c46078cbf7272709393ff",
            "35cf4de0e5444b7d9449d8c7c79792fd",
            "2f9f9715095e4a30a99fbdcf4085cb4e",
            "137c8657708940f4ae589d021fb29a2c",
            "a218da7b2adf467ea07f95a4b5439ccb",
            "375f8f4abae845d9a4f792d7e51d2bf5",
            "cb6bf416df7f407198d5780b1b9441d6",
            "69b34598bf8c4a2b8d8445187d5aca84",
            "5d3276df2e66423996863689203106e3",
            "4fd7fc98fa96445e9d4a9fcf37a91079",
            "118d8c18f4b344369e1adf7b9033c18c"
          ]
        },
        "id": "zQOPIhq_NNB_",
        "outputId": "2670f759-a230-4c29-b960-6cf6d817f4a6"
      },
      "execution_count": 22,
      "outputs": [
        {
          "output_type": "stream",
          "name": "stderr",
          "text": [
            "<ipython-input-9-579b7526ee89>:7: TqdmDeprecationWarning: Please use `tqdm.notebook.trange` instead of `tqdm.tnrange`\n",
            "  tqdm_epochs = tnrange(epochs)\n"
          ]
        },
        {
          "output_type": "display_data",
          "data": {
            "text/plain": [
              "  0%|          | 0/5000 [00:00<?, ?it/s]"
            ],
            "application/vnd.jupyter.widget-view+json": {
              "version_major": 2,
              "version_minor": 0,
              "model_id": "f003a4cea95c46078cbf7272709393ff"
            }
          },
          "metadata": {}
        }
      ]
    },
    {
      "cell_type": "code",
      "source": [
        "predicciones = modelo(X_XOR)\n",
        "print(predicciones)"
      ],
      "metadata": {
        "colab": {
          "base_uri": "https://localhost:8080/"
        },
        "id": "hzpkogHINUMT",
        "outputId": "083830ad-8a26-4fd7-cb7e-e082d9b3f564"
      },
      "execution_count": 23,
      "outputs": [
        {
          "output_type": "stream",
          "name": "stdout",
          "text": [
            "tensor([[3.5770e-05],\n",
            "        [9.9996e-01],\n",
            "        [9.9995e-01],\n",
            "        [2.8023e-05]], grad_fn=<SigmoidBackward0>)\n"
          ]
        }
      ]
    },
    {
      "cell_type": "code",
      "source": [
        "plt.scatter(Xs,Ys,c=Colores)\n",
        "plt.plot()"
      ],
      "metadata": {
        "colab": {
          "base_uri": "https://localhost:8080/",
          "height": 447
        },
        "id": "rt1H8jr9NkLb",
        "outputId": "66db65b3-3c0a-486f-adff-3d148e3ae885"
      },
      "execution_count": 24,
      "outputs": [
        {
          "output_type": "execute_result",
          "data": {
            "text/plain": [
              "[]"
            ]
          },
          "metadata": {},
          "execution_count": 24
        },
        {
          "output_type": "display_data",
          "data": {
            "text/plain": [
              "<Figure size 640x480 with 1 Axes>"
            ],
            "image/png": "[encoded data removed]"
          },
          "metadata": {}
        }
      ]
    },
    {
      "cell_type": "markdown",
      "metadata": {
        "id": "z2zA-PrEz-rL"
      },
      "source": [
        "### Ejercicio 3:\n",
        "\n",
        "Encuentra un modelo para clasificar los datos contenidos en X2s y Y2s, para lo cual debes encontrar el numero de capas y neuronas adecuado, así como una taza de aprendizaje."
      ]
    },
    {
      "cell_type": "code",
      "execution_count": 25,
      "metadata": {
        "id": "fdNdIRCN0AEo"
      },
      "outputs": [],
      "source": [
        "def to_learn2(deltaT,label):\n",
        "    n=100\n",
        "    Xs = []\n",
        "    Ys = []\n",
        "    Cs = [label]*n\n",
        "    for i in range(0,n):\n",
        "        r = i / n * 20;\n",
        "        t = 1.3 * i / n * 2 * math.pi + deltaT;\n",
        "        x = r * math.sin(t) + random.uniform(-1, 1);\n",
        "        y = r * math.cos(t) + random.uniform(-1, 1);\n",
        "        Xs.append(x)\n",
        "        Ys.append(y)\n",
        "    return Xs,Ys,Cs\n",
        "\n",
        "def create_data():\n",
        "    x1,y1,cs1 = to_learn2(0,-1)\n",
        "    x2,y2,cs2 = to_learn2(math.pi,1)\n",
        "    x1.extend(x2)\n",
        "    y1.extend(y2)\n",
        "    cs1.extend(cs2)\n",
        "    colores=[asignar_color(p) for p in cs1]\n",
        "    return x1,y1,cs1,colores\n",
        "\n",
        "X2s, Y2s,clases,colores= create_data()"
      ]
    },
    {
      "cell_type": "code",
      "execution_count": 26,
      "metadata": {
        "colab": {
          "base_uri": "https://localhost:8080/",
          "height": 447
        },
        "id": "YNgohSTL18dx",
        "outputId": "b5fe091a-4e13-453d-8764-ebf92c2261d6"
      },
      "outputs": [
        {
          "output_type": "execute_result",
          "data": {
            "text/plain": [
              "[]"
            ]
          },
          "metadata": {},
          "execution_count": 26
        },
        {
          "output_type": "display_data",
          "data": {
            "text/plain": [
              "<Figure size 640x480 with 1 Axes>"
            ],
            "image/png": "[encoded data removed]"
          },
          "metadata": {}
        }
      ],
      "source": [
        "plt.scatter(X2s, Y2s, c=colores)\n",
        "plt.plot()"
      ]
    },
    {
      "cell_type": "code",
      "execution_count": 27,
      "metadata": {
        "id": "l0Ch5Yp9Cj1G"
      },
      "outputs": [],
      "source": [
        "#CREA EN ESTA CELDA EL MODELO PARA CLASIFICAR LOS DATOS PROPORCINADOS\n",
        "class ModeloClasificacion(nn.Module):\n",
        "    def __init__(self):\n",
        "        super(ModeloClasificacion, self).__init__()\n",
        "        self.fc1 = nn.Linear(in_features=2, out_features=32)  # Capa de entrada con 2 neuronas y una capa oculta con 32 neuronas\n",
        "        self.fc2 = nn.Linear(in_features=32, out_features=1)  # Capa de salida con 1 neurona para clasificación binaria\n",
        "\n",
        "    def forward(self, inputX):\n",
        "        x = torch.relu(self.fc1(inputX))  # Aplicar la función de activación ReLU en la capa oculta\n",
        "        out = torch.sigmoid(self.fc2(x))  # Aplicar la función sigmoide en la capa de salida\n",
        "        return out"
      ]
    },
    {
      "cell_type": "code",
      "execution_count": 28,
      "metadata": {
        "id": "tT8V3-HSFtI_"
      },
      "outputs": [],
      "source": [
        "modelo3 = ModeloClasificacion()\n",
        "criterio = nn.BCELoss()  # Criterio de entropía cruzada binaria\n",
        "optimizer = torch.optim.SGD(modelo3.parameters(), lr=0.1)  # Optimizador SGD con tasa de aprendizaje 0.1"
      ]
    },
    {
      "cell_type": "code",
      "source": [],
      "metadata": {
        "id": "6cQkz5tSg8fD"
      },
      "execution_count": 1,
      "outputs": []
    },
    {
      "cell_type": "markdown",
      "source": [],
      "metadata": {
        "id": "NfyTIvoNSteZ"
      }
    }
  ],
  "metadata": {
    "colab": {
      "provenance": []
    },
    "kernelspec": {
      "display_name": "Python 3 (ipykernel)",
      "language": "python",
      "name": "python3"
    },
    "language_info": {
      "codemirror_mode": {
        "name": "ipython",
        "version": 3
      },
      "file_extension": ".py",
      "mimetype": "text/x-python",
      "name": "python",
      "nbconvert_exporter": "python",
      "pygments_lexer": "ipython3",
      "version": "3.10.12"
    },
    "widgets": {
      "application/vnd.jupyter.widget-state+json": {
        "1cbd518be53e4a0eb649287128109156": {
          "model_module": "@jupyter-widgets/controls",
          "model_name": "HBoxModel",
          "model_module_version": "1.5.0",
          "state": {
            "_dom_classes": [],
            "_model_module": "@jupyter-widgets/controls",
            "_model_module_version": "1.5.0",
            "_model_name": "HBoxModel",
            "_view_count": null,
            "_view_module": "@jupyter-widgets/controls",
            "_view_module_version": "1.5.0",
            "_view_name": "HBoxView",
            "box_style": "",
            "children": [
              "IPY_MODEL_4a472b34e2de47bcbc9d4aa8e7a16a39",
              "IPY_MODEL_9e0cc85018bc4d1caf22308197716de2",
              "IPY_MODEL_ee9f51041f354022addd767cdc0642d1"
            ],
            "layout": "IPY_MODEL_2647f26076a94746bda2d4644071285c"
          }
        },
        "4a472b34e2de47bcbc9d4aa8e7a16a39": {
          "model_module": "@jupyter-widgets/controls",
          "model_name": "HTMLModel",
          "model_module_version": "1.5.0",
          "state": {
            "_dom_classes": [],
            "_model_module": "@jupyter-widgets/controls",
            "_model_module_version": "1.5.0",
            "_model_name": "HTMLModel",
            "_view_count": null,
            "_view_module": "@jupyter-widgets/controls",
            "_view_module_version": "1.5.0",
            "_view_name": "HTMLView",
            "description": "",
            "description_tooltip": null,
            "layout": "IPY_MODEL_905a93717f8c4db889d8d2725605faf3",
            "placeholder": "​",
            "style": "IPY_MODEL_6bb579d79ab0472b9427c5368f80b22e",
            "value": "100%"
          }
        },
        "9e0cc85018bc4d1caf22308197716de2": {
          "model_module": "@jupyter-widgets/controls",
          "model_name": "FloatProgressModel",
          "model_module_version": "1.5.0",
          "state": {
            "_dom_classes": [],
            "_model_module": "@jupyter-widgets/controls",
            "_model_module_version": "1.5.0",
            "_model_name": "FloatProgressModel",
            "_view_count": null,
            "_view_module": "@jupyter-widgets/controls",
            "_view_module_version": "1.5.0",
            "_view_name": "ProgressView",
            "bar_style": "success",
            "description": "",
            "description_tooltip": null,
            "layout": "IPY_MODEL_3a0befece7154cebbf87d3c1f76d08f0",
            "max": 10000,
            "min": 0,
            "orientation": "horizontal",
            "style": "IPY_MODEL_0bfd409c2ae3455f9697cbca4d1bf32c",
            "value": 10000
          }
        },
        "ee9f51041f354022addd767cdc0642d1": {
          "model_module": "@jupyter-widgets/controls",
          "model_name": "HTMLModel",
          "model_module_version": "1.5.0",
          "state": {
            "_dom_classes": [],
            "_model_module": "@jupyter-widgets/controls",
            "_model_module_version": "1.5.0",
            "_model_name": "HTMLModel",
            "_view_count": null,
            "_view_module": "@jupyter-widgets/controls",
            "_view_module_version": "1.5.0",
            "_view_name": "HTMLView",
            "description": "",
            "description_tooltip": null,
            "layout": "IPY_MODEL_a59b471926fb4694b8bc7e1c91ad6196",
            "placeholder": "​",
            "style": "IPY_MODEL_16e5d50b6c7c4e9ab83941e7bb314805",
            "value": " 10000/10000 [00:23&lt;00:00, 428.58it/s]"
          }
        },
        "2647f26076a94746bda2d4644071285c": {
          "model_module": "@jupyter-widgets/base",
          "model_name": "LayoutModel",
          "model_module_version": "1.2.0",
          "state": {
            "_model_module": "@jupyter-widgets/base",
            "_model_module_version": "1.2.0",
            "_model_name": "LayoutModel",
            "_view_count": null,
            "_view_module": "@jupyter-widgets/base",
            "_view_module_version": "1.2.0",
            "_view_name": "LayoutView",
            "align_content": null,
            "align_items": null,
            "align_self": null,
            "border": null,
            "bottom": null,
            "display": null,
            "flex": null,
            "flex_flow": null,
            "grid_area": null,
            "grid_auto_columns": null,
            "grid_auto_flow": null,
            "grid_auto_rows": null,
            "grid_column": null,
            "grid_gap": null,
            "grid_row": null,
            "grid_template_areas": null,
            "grid_template_columns": null,
            "grid_template_rows": null,
            "height": null,
            "justify_content": null,
            "justify_items": null,
            "left": null,
            "margin": null,
            "max_height": null,
            "max_width": null,
            "min_height": null,
            "min_width": null,
            "object_fit": null,
            "object_position": null,
            "order": null,
            "overflow": null,
            "overflow_x": null,
            "overflow_y": null,
            "padding": null,
            "right": null,
            "top": null,
            "visibility": null,
            "width": null
          }
        },
        "905a93717f8c4db889d8d2725605faf3": {
          "model_module": "@jupyter-widgets/base",
          "model_name": "LayoutModel",
          "model_module_version": "1.2.0",
          "state": {
            "_model_module": "@jupyter-widgets/base",
            "_model_module_version": "1.2.0",
            "_model_name": "LayoutModel",
            "_view_count": null,
            "_view_module": "@jupyter-widgets/base",
            "_view_module_version": "1.2.0",
            "_view_name": "LayoutView",
            "align_content": null,
            "align_items": null,
            "align_self": null,
            "border": null,
            "bottom": null,
            "display": null,
            "flex": null,
            "flex_flow": null,
            "grid_area": null,
            "grid_auto_columns": null,
            "grid_auto_flow": null,
            "grid_auto_rows": null,
            "grid_column": null,
            "grid_gap": null,
            "grid_row": null,
            "grid_template_areas": null,
            "grid_template_columns": null,
            "grid_template_rows": null,
            "height": null,
            "justify_content": null,
            "justify_items": null,
            "left": null,
            "margin": null,
            "max_height": null,
            "max_width": null,
            "min_height": null,
            "min_width": null,
            "object_fit": null,
            "object_position": null,
            "order": null,
            "overflow": null,
            "overflow_x": null,
            "overflow_y": null,
            "padding": null,
            "right": null,
            "top": null,
            "visibility": null,
            "width": null
          }
        },
        "6bb579d79ab0472b9427c5368f80b22e": {
          "model_module": "@jupyter-widgets/controls",
          "model_name": "DescriptionStyleModel",
          "model_module_version": "1.5.0",
          "state": {
            "_model_module": "@jupyter-widgets/controls",
            "_model_module_version": "1.5.0",
            "_model_name": "DescriptionStyleModel",
            "_view_count": null,
            "_view_module": "@jupyter-widgets/base",
            "_view_module_version": "1.2.0",
            "_view_name": "StyleView",
            "description_width": ""
          }
        },
        "3a0befece7154cebbf87d3c1f76d08f0": {
          "model_module": "@jupyter-widgets/base",
          "model_name": "LayoutModel",
          "model_module_version": "1.2.0",
          "state": {
            "_model_module": "@jupyter-widgets/base",
            "_model_module_version": "1.2.0",
            "_model_name": "LayoutModel",
            "_view_count": null,
            "_view_module": "@jupyter-widgets/base",
            "_view_module_version": "1.2.0",
            "_view_name": "LayoutView",
            "align_content": null,
            "align_items": null,
            "align_self": null,
            "border": null,
            "bottom": null,
            "display": null,
            "flex": null,
            "flex_flow": null,
            "grid_area": null,
            "grid_auto_columns": null,
            "grid_auto_flow": null,
            "grid_auto_rows": null,
            "grid_column": null,
            "grid_gap": null,
            "grid_row": null,
            "grid_template_areas": null,
            "grid_template_columns": null,
            "grid_template_rows": null,
            "height": null,
            "justify_content": null,
            "justify_items": null,
            "left": null,
            "margin": null,
            "max_height": null,
            "max_width": null,
            "min_height": null,
            "min_width": null,
            "object_fit": null,
            "object_position": null,
            "order": null,
            "overflow": null,
            "overflow_x": null,
            "overflow_y": null,
            "padding": null,
            "right": null,
            "top": null,
            "visibility": null,
            "width": null
          }
        },
        "0bfd409c2ae3455f9697cbca4d1bf32c": {
          "model_module": "@jupyter-widgets/controls",
          "model_name": "ProgressStyleModel",
          "model_module_version": "1.5.0",
          "state": {
            "_model_module": "@jupyter-widgets/controls",
            "_model_module_version": "1.5.0",
            "_model_name": "ProgressStyleModel",
            "_view_count": null,
            "_view_module": "@jupyter-widgets/base",
            "_view_module_version": "1.2.0",
            "_view_name": "StyleView",
            "bar_color": null,
            "description_width": ""
          }
        },
        "a59b471926fb4694b8bc7e1c91ad6196": {
          "model_module": "@jupyter-widgets/base",
          "model_name": "LayoutModel",
          "model_module_version": "1.2.0",
          "state": {
            "_model_module": "@jupyter-widgets/base",
            "_model_module_version": "1.2.0",
            "_model_name": "LayoutModel",
            "_view_count": null,
            "_view_module": "@jupyter-widgets/base",
            "_view_module_version": "1.2.0",
            "_view_name": "LayoutView",
            "align_content": null,
            "align_items": null,
            "align_self": null,
            "border": null,
            "bottom": null,
            "display": null,
            "flex": null,
            "flex_flow": null,
            "grid_area": null,
            "grid_auto_columns": null,
            "grid_auto_flow": null,
            "grid_auto_rows": null,
            "grid_column": null,
            "grid_gap": null,
            "grid_row": null,
            "grid_template_areas": null,
            "grid_template_columns": null,
            "grid_template_rows": null,
            "height": null,
            "justify_content": null,
            "justify_items": null,
            "left": null,
            "margin": null,
            "max_height": null,
            "max_width": null,
            "min_height": null,
            "min_width": null,
            "object_fit": null,
            "object_position": null,
            "order": null,
            "overflow": null,
            "overflow_x": null,
            "overflow_y": null,
            "padding": null,
            "right": null,
            "top": null,
            "visibility": null,
            "width": null
          }
        },
        "16e5d50b6c7c4e9ab83941e7bb314805": {
          "model_module": "@jupyter-widgets/controls",
          "model_name": "DescriptionStyleModel",
          "model_module_version": "1.5.0",
          "state": {
            "_model_module": "@jupyter-widgets/controls",
            "_model_module_version": "1.5.0",
            "_model_name": "DescriptionStyleModel",
            "_view_count": null,
            "_view_module": "@jupyter-widgets/base",
            "_view_module_version": "1.2.0",
            "_view_name": "StyleView",
            "description_width": ""
          }
        },
        "a3560615d83042558380810e747089c4": {
          "model_module": "@jupyter-widgets/controls",
          "model_name": "HBoxModel",
          "model_module_version": "1.5.0",
          "state": {
            "_dom_classes": [],
            "_model_module": "@jupyter-widgets/controls",
            "_model_module_version": "1.5.0",
            "_model_name": "HBoxModel",
            "_view_count": null,
            "_view_module": "@jupyter-widgets/controls",
            "_view_module_version": "1.5.0",
            "_view_name": "HBoxView",
            "box_style": "",
            "children": [
              "IPY_MODEL_73973f967617421da656c047fbcea992",
              "IPY_MODEL_9b0ee581f15e4e00a4ef0a5f4eccdff2",
              "IPY_MODEL_9f430f7734ba4972baad4795dd494de4"
            ],
            "layout": "IPY_MODEL_924ed5e20456473592041f26e0b55270"
          }
        },
        "73973f967617421da656c047fbcea992": {
          "model_module": "@jupyter-widgets/controls",
          "model_name": "HTMLModel",
          "model_module_version": "1.5.0",
          "state": {
            "_dom_classes": [],
            "_model_module": "@jupyter-widgets/controls",
            "_model_module_version": "1.5.0",
            "_model_name": "HTMLModel",
            "_view_count": null,
            "_view_module": "@jupyter-widgets/controls",
            "_view_module_version": "1.5.0",
            "_view_name": "HTMLView",
            "description": "",
            "description_tooltip": null,
            "layout": "IPY_MODEL_be966fea444e455893cd5eed6d574cc4",
            "placeholder": "​",
            "style": "IPY_MODEL_2c92f17d92bd4e3da59be97bd2a97ee3",
            "value": "100%"
          }
        },
        "9b0ee581f15e4e00a4ef0a5f4eccdff2": {
          "model_module": "@jupyter-widgets/controls",
          "model_name": "FloatProgressModel",
          "model_module_version": "1.5.0",
          "state": {
            "_dom_classes": [],
            "_model_module": "@jupyter-widgets/controls",
            "_model_module_version": "1.5.0",
            "_model_name": "FloatProgressModel",
            "_view_count": null,
            "_view_module": "@jupyter-widgets/controls",
            "_view_module_version": "1.5.0",
            "_view_name": "ProgressView",
            "bar_style": "success",
            "description": "",
            "description_tooltip": null,
            "layout": "IPY_MODEL_b18fb70b83a14d7e9ab0f544d3d8a12f",
            "max": 50000,
            "min": 0,
            "orientation": "horizontal",
            "style": "IPY_MODEL_aba061135f044fe4873b87cb681197da",
            "value": 50000
          }
        },
        "9f430f7734ba4972baad4795dd494de4": {
          "model_module": "@jupyter-widgets/controls",
          "model_name": "HTMLModel",
          "model_module_version": "1.5.0",
          "state": {
            "_dom_classes": [],
            "_model_module": "@jupyter-widgets/controls",
            "_model_module_version": "1.5.0",
            "_model_name": "HTMLModel",
            "_view_count": null,
            "_view_module": "@jupyter-widgets/controls",
            "_view_module_version": "1.5.0",
            "_view_name": "HTMLView",
            "description": "",
            "description_tooltip": null,
            "layout": "IPY_MODEL_aa8f87af5ae34695a5ba3ba7b5021e22",
            "placeholder": "​",
            "style": "IPY_MODEL_bacc9ecfb7d74862b4e2890785db181d",
            "value": " 50000/50000 [02:04&lt;00:00, 393.89it/s]"
          }
        },
        "924ed5e20456473592041f26e0b55270": {
          "model_module": "@jupyter-widgets/base",
          "model_name": "LayoutModel",
          "model_module_version": "1.2.0",
          "state": {
            "_model_module": "@jupyter-widgets/base",
            "_model_module_version": "1.2.0",
            "_model_name": "LayoutModel",
            "_view_count": null,
            "_view_module": "@jupyter-widgets/base",
            "_view_module_version": "1.2.0",
            "_view_name": "LayoutView",
            "align_content": null,
            "align_items": null,
            "align_self": null,
            "border": null,
            "bottom": null,
            "display": null,
            "flex": null,
            "flex_flow": null,
            "grid_area": null,
            "grid_auto_columns": null,
            "grid_auto_flow": null,
            "grid_auto_rows": null,
            "grid_column": null,
            "grid_gap": null,
            "grid_row": null,
            "grid_template_areas": null,
            "grid_template_columns": null,
            "grid_template_rows": null,
            "height": null,
            "justify_content": null,
            "justify_items": null,
            "left": null,
            "margin": null,
            "max_height": null,
            "max_width": null,
            "min_height": null,
            "min_width": null,
            "object_fit": null,
            "object_position": null,
            "order": null,
            "overflow": null,
            "overflow_x": null,
            "overflow_y": null,
            "padding": null,
            "right": null,
            "top": null,
            "visibility": null,
            "width": null
          }
        },
        "be966fea444e455893cd5eed6d574cc4": {
          "model_module": "@jupyter-widgets/base",
          "model_name": "LayoutModel",
          "model_module_version": "1.2.0",
          "state": {
            "_model_module": "@jupyter-widgets/base",
            "_model_module_version": "1.2.0",
            "_model_name": "LayoutModel",
            "_view_count": null,
            "_view_module": "@jupyter-widgets/base",
            "_view_module_version": "1.2.0",
            "_view_name": "LayoutView",
            "align_content": null,
            "align_items": null,
            "align_self": null,
            "border": null,
            "bottom": null,
            "display": null,
            "flex": null,
            "flex_flow": null,
            "grid_area": null,
            "grid_auto_columns": null,
            "grid_auto_flow": null,
            "grid_auto_rows": null,
            "grid_column": null,
            "grid_gap": null,
            "grid_row": null,
            "grid_template_areas": null,
            "grid_template_columns": null,
            "grid_template_rows": null,
            "height": null,
            "justify_content": null,
            "justify_items": null,
            "left": null,
            "margin": null,
            "max_height": null,
            "max_width": null,
            "min_height": null,
            "min_width": null,
            "object_fit": null,
            "object_position": null,
            "order": null,
            "overflow": null,
            "overflow_x": null,
            "overflow_y": null,
            "padding": null,
            "right": null,
            "top": null,
            "visibility": null,
            "width": null
          }
        },
        "2c92f17d92bd4e3da59be97bd2a97ee3": {
          "model_module": "@jupyter-widgets/controls",
          "model_name": "DescriptionStyleModel",
          "model_module_version": "1.5.0",
          "state": {
            "_model_module": "@jupyter-widgets/controls",
            "_model_module_version": "1.5.0",
            "_model_name": "DescriptionStyleModel",
            "_view_count": null,
            "_view_module": "@jupyter-widgets/base",
            "_view_module_version": "1.2.0",
            "_view_name": "StyleView",
            "description_width": ""
          }
        },
        "b18fb70b83a14d7e9ab0f544d3d8a12f": {
          "model_module": "@jupyter-widgets/base",
          "model_name": "LayoutModel",
          "model_module_version": "1.2.0",
          "state": {
            "_model_module": "@jupyter-widgets/base",
            "_model_module_version": "1.2.0",
            "_model_name": "LayoutModel",
            "_view_count": null,
            "_view_module": "@jupyter-widgets/base",
            "_view_module_version": "1.2.0",
            "_view_name": "LayoutView",
            "align_content": null,
            "align_items": null,
            "align_self": null,
            "border": null,
            "bottom": null,
            "display": null,
            "flex": null,
            "flex_flow": null,
            "grid_area": null,
            "grid_auto_columns": null,
            "grid_auto_flow": null,
            "grid_auto_rows": null,
            "grid_column": null,
            "grid_gap": null,
            "grid_row": null,
            "grid_template_areas": null,
            "grid_template_columns": null,
            "grid_template_rows": null,
            "height": null,
            "justify_content": null,
            "justify_items": null,
            "left": null,
            "margin": null,
            "max_height": null,
            "max_width": null,
            "min_height": null,
            "min_width": null,
            "object_fit": null,
            "object_position": null,
            "order": null,
            "overflow": null,
            "overflow_x": null,
            "overflow_y": null,
            "padding": null,
            "right": null,
            "top": null,
            "visibility": null,
            "width": null
          }
        },
        "aba061135f044fe4873b87cb681197da": {
          "model_module": "@jupyter-widgets/controls",
          "model_name": "ProgressStyleModel",
          "model_module_version": "1.5.0",
          "state": {
            "_model_module": "@jupyter-widgets/controls",
            "_model_module_version": "1.5.0",
            "_model_name": "ProgressStyleModel",
            "_view_count": null,
            "_view_module": "@jupyter-widgets/base",
            "_view_module_version": "1.2.0",
            "_view_name": "StyleView",
            "bar_color": null,
            "description_width": ""
          }
        },
        "aa8f87af5ae34695a5ba3ba7b5021e22": {
          "model_module": "@jupyter-widgets/base",
          "model_name": "LayoutModel",
          "model_module_version": "1.2.0",
          "state": {
            "_model_module": "@jupyter-widgets/base",
            "_model_module_version": "1.2.0",
            "_model_name": "LayoutModel",
            "_view_count": null,
            "_view_module": "@jupyter-widgets/base",
            "_view_module_version": "1.2.0",
            "_view_name": "LayoutView",
            "align_content": null,
            "align_items": null,
            "align_self": null,
            "border": null,
            "bottom": null,
            "display": null,
            "flex": null,
            "flex_flow": null,
            "grid_area": null,
            "grid_auto_columns": null,
            "grid_auto_flow": null,
            "grid_auto_rows": null,
            "grid_column": null,
            "grid_gap": null,
            "grid_row": null,
            "grid_template_areas": null,
            "grid_template_columns": null,
            "grid_template_rows": null,
            "height": null,
            "justify_content": null,
            "justify_items": null,
            "left": null,
            "margin": null,
            "max_height": null,
            "max_width": null,
            "min_height": null,
            "min_width": null,
            "object_fit": null,
            "object_position": null,
            "order": null,
            "overflow": null,
            "overflow_x": null,
            "overflow_y": null,
            "padding": null,
            "right": null,
            "top": null,
            "visibility": null,
            "width": null
          }
        },
        "bacc9ecfb7d74862b4e2890785db181d": {
          "model_module": "@jupyter-widgets/controls",
          "model_name": "DescriptionStyleModel",
          "model_module_version": "1.5.0",
          "state": {
            "_model_module": "@jupyter-widgets/controls",
            "_model_module_version": "1.5.0",
            "_model_name": "DescriptionStyleModel",
            "_view_count": null,
            "_view_module": "@jupyter-widgets/base",
            "_view_module_version": "1.2.0",
            "_view_name": "StyleView",
            "description_width": ""
          }
        },
        "e09420cc4cd24eaa99ad6e93c681a66f": {
          "model_module": "@jupyter-widgets/controls",
          "model_name": "HBoxModel",
          "model_module_version": "1.5.0",
          "state": {
            "_dom_classes": [],
            "_model_module": "@jupyter-widgets/controls",
            "_model_module_version": "1.5.0",
            "_model_name": "HBoxModel",
            "_view_count": null,
            "_view_module": "@jupyter-widgets/controls",
            "_view_module_version": "1.5.0",
            "_view_name": "HBoxView",
            "box_style": "",
            "children": [
              "IPY_MODEL_7bb371b8d0594f558db103a168af09b4",
              "IPY_MODEL_7c4d84e95704415d860fa3f5e500da87",
              "IPY_MODEL_4901b9a17dfb4afe889ce0e2562b1c48"
            ],
            "layout": "IPY_MODEL_eadcac66948f4d6689265d029c949955"
          }
        },
        "7bb371b8d0594f558db103a168af09b4": {
          "model_module": "@jupyter-widgets/controls",
          "model_name": "HTMLModel",
          "model_module_version": "1.5.0",
          "state": {
            "_dom_classes": [],
            "_model_module": "@jupyter-widgets/controls",
            "_model_module_version": "1.5.0",
            "_model_name": "HTMLModel",
            "_view_count": null,
            "_view_module": "@jupyter-widgets/controls",
            "_view_module_version": "1.5.0",
            "_view_name": "HTMLView",
            "description": "",
            "description_tooltip": null,
            "layout": "IPY_MODEL_a42fed29cfdd453da72d1dde6ecd5cc7",
            "placeholder": "​",
            "style": "IPY_MODEL_cfa39d6044b74036bc5b081fa789d414",
            "value": "100%"
          }
        },
        "7c4d84e95704415d860fa3f5e500da87": {
          "model_module": "@jupyter-widgets/controls",
          "model_name": "FloatProgressModel",
          "model_module_version": "1.5.0",
          "state": {
            "_dom_classes": [],
            "_model_module": "@jupyter-widgets/controls",
            "_model_module_version": "1.5.0",
            "_model_name": "FloatProgressModel",
            "_view_count": null,
            "_view_module": "@jupyter-widgets/controls",
            "_view_module_version": "1.5.0",
            "_view_name": "ProgressView",
            "bar_style": "success",
            "description": "",
            "description_tooltip": null,
            "layout": "IPY_MODEL_21e429f91bda4ba59a8c1026f8126685",
            "max": 5000,
            "min": 0,
            "orientation": "horizontal",
            "style": "IPY_MODEL_733c99c1af694bdeac94bcbf9f24ae14",
            "value": 5000
          }
        },
        "4901b9a17dfb4afe889ce0e2562b1c48": {
          "model_module": "@jupyter-widgets/controls",
          "model_name": "HTMLModel",
          "model_module_version": "1.5.0",
          "state": {
            "_dom_classes": [],
            "_model_module": "@jupyter-widgets/controls",
            "_model_module_version": "1.5.0",
            "_model_name": "HTMLModel",
            "_view_count": null,
            "_view_module": "@jupyter-widgets/controls",
            "_view_module_version": "1.5.0",
            "_view_name": "HTMLView",
            "description": "",
            "description_tooltip": null,
            "layout": "IPY_MODEL_179726f803804b65beba610e820b634e",
            "placeholder": "​",
            "style": "IPY_MODEL_2e7da7a90aa04e1ab97a08e8be653d9f",
            "value": " 5000/5000 [00:16&lt;00:00, 360.87it/s]"
          }
        },
        "eadcac66948f4d6689265d029c949955": {
          "model_module": "@jupyter-widgets/base",
          "model_name": "LayoutModel",
          "model_module_version": "1.2.0",
          "state": {
            "_model_module": "@jupyter-widgets/base",
            "_model_module_version": "1.2.0",
            "_model_name": "LayoutModel",
            "_view_count": null,
            "_view_module": "@jupyter-widgets/base",
            "_view_module_version": "1.2.0",
            "_view_name": "LayoutView",
            "align_content": null,
            "align_items": null,
            "align_self": null,
            "border": null,
            "bottom": null,
            "display": null,
            "flex": null,
            "flex_flow": null,
            "grid_area": null,
            "grid_auto_columns": null,
            "grid_auto_flow": null,
            "grid_auto_rows": null,
            "grid_column": null,
            "grid_gap": null,
            "grid_row": null,
            "grid_template_areas": null,
            "grid_template_columns": null,
            "grid_template_rows": null,
            "height": null,
            "justify_content": null,
            "justify_items": null,
            "left": null,
            "margin": null,
            "max_height": null,
            "max_width": null,
            "min_height": null,
            "min_width": null,
            "object_fit": null,
            "object_position": null,
            "order": null,
            "overflow": null,
            "overflow_x": null,
            "overflow_y": null,
            "padding": null,
            "right": null,
            "top": null,
            "visibility": null,
            "width": null
          }
        },
        "a42fed29cfdd453da72d1dde6ecd5cc7": {
          "model_module": "@jupyter-widgets/base",
          "model_name": "LayoutModel",
          "model_module_version": "1.2.0",
          "state": {
            "_model_module": "@jupyter-widgets/base",
            "_model_module_version": "1.2.0",
            "_model_name": "LayoutModel",
            "_view_count": null,
            "_view_module": "@jupyter-widgets/base",
            "_view_module_version": "1.2.0",
            "_view_name": "LayoutView",
            "align_content": null,
            "align_items": null,
            "align_self": null,
            "border": null,
            "bottom": null,
            "display": null,
            "flex": null,
            "flex_flow": null,
            "grid_area": null,
            "grid_auto_columns": null,
            "grid_auto_flow": null,
            "grid_auto_rows": null,
            "grid_column": null,
            "grid_gap": null,
            "grid_row": null,
            "grid_template_areas": null,
            "grid_template_columns": null,
            "grid_template_rows": null,
            "height": null,
            "justify_content": null,
            "justify_items": null,
            "left": null,
            "margin": null,
            "max_height": null,
            "max_width": null,
            "min_height": null,
            "min_width": null,
            "object_fit": null,
            "object_position": null,
            "order": null,
            "overflow": null,
            "overflow_x": null,
            "overflow_y": null,
            "padding": null,
            "right": null,
            "top": null,
            "visibility": null,
            "width": null
          }
        },
        "cfa39d6044b74036bc5b081fa789d414": {
          "model_module": "@jupyter-widgets/controls",
          "model_name": "DescriptionStyleModel",
          "model_module_version": "1.5.0",
          "state": {
            "_model_module": "@jupyter-widgets/controls",
            "_model_module_version": "1.5.0",
            "_model_name": "DescriptionStyleModel",
            "_view_count": null,
            "_view_module": "@jupyter-widgets/base",
            "_view_module_version": "1.2.0",
            "_view_name": "StyleView",
            "description_width": ""
          }
        },
        "21e429f91bda4ba59a8c1026f8126685": {
          "model_module": "@jupyter-widgets/base",
          "model_name": "LayoutModel",
          "model_module_version": "1.2.0",
          "state": {
            "_model_module": "@jupyter-widgets/base",
            "_model_module_version": "1.2.0",
            "_model_name": "LayoutModel",
            "_view_count": null,
            "_view_module": "@jupyter-widgets/base",
            "_view_module_version": "1.2.0",
            "_view_name": "LayoutView",
            "align_content": null,
            "align_items": null,
            "align_self": null,
            "border": null,
            "bottom": null,
            "display": null,
            "flex": null,
            "flex_flow": null,
            "grid_area": null,
            "grid_auto_columns": null,
            "grid_auto_flow": null,
            "grid_auto_rows": null,
            "grid_column": null,
            "grid_gap": null,
            "grid_row": null,
            "grid_template_areas": null,
            "grid_template_columns": null,
            "grid_template_rows": null,
            "height": null,
            "justify_content": null,
            "justify_items": null,
            "left": null,
            "margin": null,
            "max_height": null,
            "max_width": null,
            "min_height": null,
            "min_width": null,
            "object_fit": null,
            "object_position": null,
            "order": null,
            "overflow": null,
            "overflow_x": null,
            "overflow_y": null,
            "padding": null,
            "right": null,
            "top": null,
            "visibility": null,
            "width": null
          }
        },
        "733c99c1af694bdeac94bcbf9f24ae14": {
          "model_module": "@jupyter-widgets/controls",
          "model_name": "ProgressStyleModel",
          "model_module_version": "1.5.0",
          "state": {
            "_model_module": "@jupyter-widgets/controls",
            "_model_module_version": "1.5.0",
            "_model_name": "ProgressStyleModel",
            "_view_count": null,
            "_view_module": "@jupyter-widgets/base",
            "_view_module_version": "1.2.0",
            "_view_name": "StyleView",
            "bar_color": null,
            "description_width": ""
          }
        },
        "179726f803804b65beba610e820b634e": {
          "model_module": "@jupyter-widgets/base",
          "model_name": "LayoutModel",
          "model_module_version": "1.2.0",
          "state": {
            "_model_module": "@jupyter-widgets/base",
            "_model_module_version": "1.2.0",
            "_model_name": "LayoutModel",
            "_view_count": null,
            "_view_module": "@jupyter-widgets/base",
            "_view_module_version": "1.2.0",
            "_view_name": "LayoutView",
            "align_content": null,
            "align_items": null,
            "align_self": null,
            "border": null,
            "bottom": null,
            "display": null,
            "flex": null,
            "flex_flow": null,
            "grid_area": null,
            "grid_auto_columns": null,
            "grid_auto_flow": null,
            "grid_auto_rows": null,
            "grid_column": null,
            "grid_gap": null,
            "grid_row": null,
            "grid_template_areas": null,
            "grid_template_columns": null,
            "grid_template_rows": null,
            "height": null,
            "justify_content": null,
            "justify_items": null,
            "left": null,
            "margin": null,
            "max_height": null,
            "max_width": null,
            "min_height": null,
            "min_width": null,
            "object_fit": null,
            "object_position": null,
            "order": null,
            "overflow": null,
            "overflow_x": null,
            "overflow_y": null,
            "padding": null,
            "right": null,
            "top": null,
            "visibility": null,
            "width": null
          }
        },
        "2e7da7a90aa04e1ab97a08e8be653d9f": {
          "model_module": "@jupyter-widgets/controls",
          "model_name": "DescriptionStyleModel",
          "model_module_version": "1.5.0",
          "state": {
            "_model_module": "@jupyter-widgets/controls",
            "_model_module_version": "1.5.0",
            "_model_name": "DescriptionStyleModel",
            "_view_count": null,
            "_view_module": "@jupyter-widgets/base",
            "_view_module_version": "1.2.0",
            "_view_name": "StyleView",
            "description_width": ""
          }
        },
        "f003a4cea95c46078cbf7272709393ff": {
          "model_module": "@jupyter-widgets/controls",
          "model_name": "HBoxModel",
          "model_module_version": "1.5.0",
          "state": {
            "_dom_classes": [],
            "_model_module": "@jupyter-widgets/controls",
            "_model_module_version": "1.5.0",
            "_model_name": "HBoxModel",
            "_view_count": null,
            "_view_module": "@jupyter-widgets/controls",
            "_view_module_version": "1.5.0",
            "_view_name": "HBoxView",
            "box_style": "",
            "children": [
              "IPY_MODEL_35cf4de0e5444b7d9449d8c7c79792fd",
              "IPY_MODEL_2f9f9715095e4a30a99fbdcf4085cb4e",
              "IPY_MODEL_137c8657708940f4ae589d021fb29a2c"
            ],
            "layout": "IPY_MODEL_a218da7b2adf467ea07f95a4b5439ccb"
          }
        },
        "35cf4de0e5444b7d9449d8c7c79792fd": {
          "model_module": "@jupyter-widgets/controls",
          "model_name": "HTMLModel",
          "model_module_version": "1.5.0",
          "state": {
            "_dom_classes": [],
            "_model_module": "@jupyter-widgets/controls",
            "_model_module_version": "1.5.0",
            "_model_name": "HTMLModel",
            "_view_count": null,
            "_view_module": "@jupyter-widgets/controls",
            "_view_module_version": "1.5.0",
            "_view_name": "HTMLView",
            "description": "",
            "description_tooltip": null,
            "layout": "IPY_MODEL_375f8f4abae845d9a4f792d7e51d2bf5",
            "placeholder": "​",
            "style": "IPY_MODEL_cb6bf416df7f407198d5780b1b9441d6",
            "value": "100%"
          }
        },
        "2f9f9715095e4a30a99fbdcf4085cb4e": {
          "model_module": "@jupyter-widgets/controls",
          "model_name": "FloatProgressModel",
          "model_module_version": "1.5.0",
          "state": {
            "_dom_classes": [],
            "_model_module": "@jupyter-widgets/controls",
            "_model_module_version": "1.5.0",
            "_model_name": "FloatProgressModel",
            "_view_count": null,
            "_view_module": "@jupyter-widgets/controls",
            "_view_module_version": "1.5.0",
            "_view_name": "ProgressView",
            "bar_style": "success",
            "description": "",
            "description_tooltip": null,
            "layout": "IPY_MODEL_69b34598bf8c4a2b8d8445187d5aca84",
            "max": 5000,
            "min": 0,
            "orientation": "horizontal",
            "style": "IPY_MODEL_5d3276df2e66423996863689203106e3",
            "value": 5000
          }
        },
        "137c8657708940f4ae589d021fb29a2c": {
          "model_module": "@jupyter-widgets/controls",
          "model_name": "HTMLModel",
          "model_module_version": "1.5.0",
          "state": {
            "_dom_classes": [],
            "_model_module": "@jupyter-widgets/controls",
            "_model_module_version": "1.5.0",
            "_model_name": "HTMLModel",
            "_view_count": null,
            "_view_module": "@jupyter-widgets/controls",
            "_view_module_version": "1.5.0",
            "_view_name": "HTMLView",
            "description": "",
            "description_tooltip": null,
            "layout": "IPY_MODEL_4fd7fc98fa96445e9d4a9fcf37a91079",
            "placeholder": "​",
            "style": "IPY_MODEL_118d8c18f4b344369e1adf7b9033c18c",
            "value": " 5000/5000 [00:20&lt;00:00, 313.10it/s]"
          }
        },
        "a218da7b2adf467ea07f95a4b5439ccb": {
          "model_module": "@jupyter-widgets/base",
          "model_name": "LayoutModel",
          "model_module_version": "1.2.0",
          "state": {
            "_model_module": "@jupyter-widgets/base",
            "_model_module_version": "1.2.0",
            "_model_name": "LayoutModel",
            "_view_count": null,
            "_view_module": "@jupyter-widgets/base",
            "_view_module_version": "1.2.0",
            "_view_name": "LayoutView",
            "align_content": null,
            "align_items": null,
            "align_self": null,
            "border": null,
            "bottom": null,
            "display": null,
            "flex": null,
            "flex_flow": null,
            "grid_area": null,
            "grid_auto_columns": null,
            "grid_auto_flow": null,
            "grid_auto_rows": null,
            "grid_column": null,
            "grid_gap": null,
            "grid_row": null,
            "grid_template_areas": null,
            "grid_template_columns": null,
            "grid_template_rows": null,
            "height": null,
            "justify_content": null,
            "justify_items": null,
            "left": null,
            "margin": null,
            "max_height": null,
            "max_width": null,
            "min_height": null,
            "min_width": null,
            "object_fit": null,
            "object_position": null,
            "order": null,
            "overflow": null,
            "overflow_x": null,
            "overflow_y": null,
            "padding": null,
            "right": null,
            "top": null,
            "visibility": null,
            "width": null
          }
        },
        "375f8f4abae845d9a4f792d7e51d2bf5": {
          "model_module": "@jupyter-widgets/base",
          "model_name": "LayoutModel",
          "model_module_version": "1.2.0",
          "state": {
            "_model_module": "@jupyter-widgets/base",
            "_model_module_version": "1.2.0",
            "_model_name": "LayoutModel",
            "_view_count": null,
            "_view_module": "@jupyter-widgets/base",
            "_view_module_version": "1.2.0",
            "_view_name": "LayoutView",
            "align_content": null,
            "align_items": null,
            "align_self": null,
            "border": null,
            "bottom": null,
            "display": null,
            "flex": null,
            "flex_flow": null,
            "grid_area": null,
            "grid_auto_columns": null,
            "grid_auto_flow": null,
            "grid_auto_rows": null,
            "grid_column": null,
            "grid_gap": null,
            "grid_row": null,
            "grid_template_areas": null,
            "grid_template_columns": null,
            "grid_template_rows": null,
            "height": null,
            "justify_content": null,
            "justify_items": null,
            "left": null,
            "margin": null,
            "max_height": null,
            "max_width": null,
            "min_height": null,
            "min_width": null,
            "object_fit": null,
            "object_position": null,
            "order": null,
            "overflow": null,
            "overflow_x": null,
            "overflow_y": null,
            "padding": null,
            "right": null,
            "top": null,
            "visibility": null,
            "width": null
          }
        },
        "cb6bf416df7f407198d5780b1b9441d6": {
          "model_module": "@jupyter-widgets/controls",
          "model_name": "DescriptionStyleModel",
          "model_module_version": "1.5.0",
          "state": {
            "_model_module": "@jupyter-widgets/controls",
            "_model_module_version": "1.5.0",
            "_model_name": "DescriptionStyleModel",
            "_view_count": null,
            "_view_module": "@jupyter-widgets/base",
            "_view_module_version": "1.2.0",
            "_view_name": "StyleView",
            "description_width": ""
          }
        },
        "69b34598bf8c4a2b8d8445187d5aca84": {
          "model_module": "@jupyter-widgets/base",
          "model_name": "LayoutModel",
          "model_module_version": "1.2.0",
          "state": {
            "_model_module": "@jupyter-widgets/base",
            "_model_module_version": "1.2.0",
            "_model_name": "LayoutModel",
            "_view_count": null,
            "_view_module": "@jupyter-widgets/base",
            "_view_module_version": "1.2.0",
            "_view_name": "LayoutView",
            "align_content": null,
            "align_items": null,
            "align_self": null,
            "border": null,
            "bottom": null,
            "display": null,
            "flex": null,
            "flex_flow": null,
            "grid_area": null,
            "grid_auto_columns": null,
            "grid_auto_flow": null,
            "grid_auto_rows": null,
            "grid_column": null,
            "grid_gap": null,
            "grid_row": null,
            "grid_template_areas": null,
            "grid_template_columns": null,
            "grid_template_rows": null,
            "height": null,
            "justify_content": null,
            "justify_items": null,
            "left": null,
            "margin": null,
            "max_height": null,
            "max_width": null,
            "min_height": null,
            "min_width": null,
            "object_fit": null,
            "object_position": null,
            "order": null,
            "overflow": null,
            "overflow_x": null,
            "overflow_y": null,
            "padding": null,
            "right": null,
            "top": null,
            "visibility": null,
            "width": null
          }
        },
        "5d3276df2e66423996863689203106e3": {
          "model_module": "@jupyter-widgets/controls",
          "model_name": "ProgressStyleModel",
          "model_module_version": "1.5.0",
          "state": {
            "_model_module": "@jupyter-widgets/controls",
            "_model_module_version": "1.5.0",
            "_model_name": "ProgressStyleModel",
            "_view_count": null,
            "_view_module": "@jupyter-widgets/base",
            "_view_module_version": "1.2.0",
            "_view_name": "StyleView",
            "bar_color": null,
            "description_width": ""
          }
        },
        "4fd7fc98fa96445e9d4a9fcf37a91079": {
          "model_module": "@jupyter-widgets/base",
          "model_name": "LayoutModel",
          "model_module_version": "1.2.0",
          "state": {
            "_model_module": "@jupyter-widgets/base",
            "_model_module_version": "1.2.0",
            "_model_name": "LayoutModel",
            "_view_count": null,
            "_view_module": "@jupyter-widgets/base",
            "_view_module_version": "1.2.0",
            "_view_name": "LayoutView",
            "align_content": null,
            "align_items": null,
            "align_self": null,
            "border": null,
            "bottom": null,
            "display": null,
            "flex": null,
            "flex_flow": null,
            "grid_area": null,
            "grid_auto_columns": null,
            "grid_auto_flow": null,
            "grid_auto_rows": null,
            "grid_column": null,
            "grid_gap": null,
            "grid_row": null,
            "grid_template_areas": null,
            "grid_template_columns": null,
            "grid_template_rows": null,
            "height": null,
            "justify_content": null,
            "justify_items": null,
            "left": null,
            "margin": null,
            "max_height": null,
            "max_width": null,
            "min_height": null,
            "min_width": null,
            "object_fit": null,
            "object_position": null,
            "order": null,
            "overflow": null,
            "overflow_x": null,
            "overflow_y": null,
            "padding": null,
            "right": null,
            "top": null,
            "visibility": null,
            "width": null
          }
        },
        "118d8c18f4b344369e1adf7b9033c18c": {
          "model_module": "@jupyter-widgets/controls",
          "model_name": "DescriptionStyleModel",
          "model_module_version": "1.5.0",
          "state": {
            "_model_module": "@jupyter-widgets/controls",
            "_model_module_version": "1.5.0",
            "_model_name": "DescriptionStyleModel",
            "_view_count": null,
            "_view_module": "@jupyter-widgets/base",
            "_view_module_version": "1.2.0",
            "_view_name": "StyleView",
            "description_width": ""
          }
        }
      }
    }
  },
  "nbformat": 4,
  "nbformat_minor": 0
}